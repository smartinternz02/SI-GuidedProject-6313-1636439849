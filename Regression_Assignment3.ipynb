{
 "cells": [
  {
   "cell_type": "code",
   "execution_count": 1,
   "metadata": {},
   "outputs": [],
   "source": [
    "import pandas as pd\n",
    "import numpy as np"
   ]
  },
  {
   "cell_type": "code",
   "execution_count": 2,
   "metadata": {},
   "outputs": [],
   "source": [
    "df=pd.read_csv('Housing.csv')"
   ]
  },
  {
   "cell_type": "code",
   "execution_count": 3,
   "metadata": {},
   "outputs": [
    {
     "data": {
      "text/html": [
       "<div>\n",
       "<style scoped>\n",
       "    .dataframe tbody tr th:only-of-type {\n",
       "        vertical-align: middle;\n",
       "    }\n",
       "\n",
       "    .dataframe tbody tr th {\n",
       "        vertical-align: top;\n",
       "    }\n",
       "\n",
       "    .dataframe thead th {\n",
       "        text-align: right;\n",
       "    }\n",
       "</style>\n",
       "<table border=\"1\" class=\"dataframe\">\n",
       "  <thead>\n",
       "    <tr style=\"text-align: right;\">\n",
       "      <th></th>\n",
       "      <th>price</th>\n",
       "      <th>area</th>\n",
       "      <th>bedrooms</th>\n",
       "      <th>bathrooms</th>\n",
       "      <th>stories</th>\n",
       "      <th>mainroad</th>\n",
       "      <th>guestroom</th>\n",
       "      <th>basement</th>\n",
       "      <th>hotwaterheating</th>\n",
       "      <th>airconditioning</th>\n",
       "      <th>parking</th>\n",
       "      <th>prefarea</th>\n",
       "      <th>furnishingstatus</th>\n",
       "    </tr>\n",
       "  </thead>\n",
       "  <tbody>\n",
       "    <tr>\n",
       "      <th>0</th>\n",
       "      <td>13300000</td>\n",
       "      <td>7420</td>\n",
       "      <td>4</td>\n",
       "      <td>2</td>\n",
       "      <td>3</td>\n",
       "      <td>yes</td>\n",
       "      <td>no</td>\n",
       "      <td>no</td>\n",
       "      <td>no</td>\n",
       "      <td>yes</td>\n",
       "      <td>2</td>\n",
       "      <td>yes</td>\n",
       "      <td>furnished</td>\n",
       "    </tr>\n",
       "    <tr>\n",
       "      <th>1</th>\n",
       "      <td>12250000</td>\n",
       "      <td>8960</td>\n",
       "      <td>4</td>\n",
       "      <td>4</td>\n",
       "      <td>4</td>\n",
       "      <td>yes</td>\n",
       "      <td>no</td>\n",
       "      <td>no</td>\n",
       "      <td>no</td>\n",
       "      <td>yes</td>\n",
       "      <td>3</td>\n",
       "      <td>no</td>\n",
       "      <td>furnished</td>\n",
       "    </tr>\n",
       "    <tr>\n",
       "      <th>2</th>\n",
       "      <td>12250000</td>\n",
       "      <td>9960</td>\n",
       "      <td>3</td>\n",
       "      <td>2</td>\n",
       "      <td>2</td>\n",
       "      <td>yes</td>\n",
       "      <td>no</td>\n",
       "      <td>yes</td>\n",
       "      <td>no</td>\n",
       "      <td>no</td>\n",
       "      <td>2</td>\n",
       "      <td>yes</td>\n",
       "      <td>semi-furnished</td>\n",
       "    </tr>\n",
       "    <tr>\n",
       "      <th>3</th>\n",
       "      <td>12215000</td>\n",
       "      <td>7500</td>\n",
       "      <td>4</td>\n",
       "      <td>2</td>\n",
       "      <td>2</td>\n",
       "      <td>yes</td>\n",
       "      <td>no</td>\n",
       "      <td>yes</td>\n",
       "      <td>no</td>\n",
       "      <td>yes</td>\n",
       "      <td>3</td>\n",
       "      <td>yes</td>\n",
       "      <td>furnished</td>\n",
       "    </tr>\n",
       "    <tr>\n",
       "      <th>4</th>\n",
       "      <td>11410000</td>\n",
       "      <td>7420</td>\n",
       "      <td>4</td>\n",
       "      <td>1</td>\n",
       "      <td>2</td>\n",
       "      <td>yes</td>\n",
       "      <td>yes</td>\n",
       "      <td>yes</td>\n",
       "      <td>no</td>\n",
       "      <td>yes</td>\n",
       "      <td>2</td>\n",
       "      <td>no</td>\n",
       "      <td>furnished</td>\n",
       "    </tr>\n",
       "  </tbody>\n",
       "</table>\n",
       "</div>"
      ],
      "text/plain": [
       "      price  area  bedrooms  bathrooms  stories mainroad guestroom basement  \\\n",
       "0  13300000  7420         4          2        3      yes        no       no   \n",
       "1  12250000  8960         4          4        4      yes        no       no   \n",
       "2  12250000  9960         3          2        2      yes        no      yes   \n",
       "3  12215000  7500         4          2        2      yes        no      yes   \n",
       "4  11410000  7420         4          1        2      yes       yes      yes   \n",
       "\n",
       "  hotwaterheating airconditioning  parking prefarea furnishingstatus  \n",
       "0              no             yes        2      yes        furnished  \n",
       "1              no             yes        3       no        furnished  \n",
       "2              no              no        2      yes   semi-furnished  \n",
       "3              no             yes        3      yes        furnished  \n",
       "4              no             yes        2       no        furnished  "
      ]
     },
     "execution_count": 3,
     "metadata": {},
     "output_type": "execute_result"
    }
   ],
   "source": [
    "df.head()"
   ]
  },
  {
   "cell_type": "code",
   "execution_count": 4,
   "metadata": {},
   "outputs": [
    {
     "data": {
      "text/plain": [
       "(545, 13)"
      ]
     },
     "execution_count": 4,
     "metadata": {},
     "output_type": "execute_result"
    }
   ],
   "source": [
    "df.shape"
   ]
  },
  {
   "cell_type": "code",
   "execution_count": 5,
   "metadata": {},
   "outputs": [
    {
     "data": {
      "text/html": [
       "<div>\n",
       "<style scoped>\n",
       "    .dataframe tbody tr th:only-of-type {\n",
       "        vertical-align: middle;\n",
       "    }\n",
       "\n",
       "    .dataframe tbody tr th {\n",
       "        vertical-align: top;\n",
       "    }\n",
       "\n",
       "    .dataframe thead th {\n",
       "        text-align: right;\n",
       "    }\n",
       "</style>\n",
       "<table border=\"1\" class=\"dataframe\">\n",
       "  <thead>\n",
       "    <tr style=\"text-align: right;\">\n",
       "      <th></th>\n",
       "      <th>price</th>\n",
       "      <th>area</th>\n",
       "      <th>bedrooms</th>\n",
       "      <th>bathrooms</th>\n",
       "      <th>stories</th>\n",
       "      <th>parking</th>\n",
       "    </tr>\n",
       "  </thead>\n",
       "  <tbody>\n",
       "    <tr>\n",
       "      <th>count</th>\n",
       "      <td>5.450000e+02</td>\n",
       "      <td>545.000000</td>\n",
       "      <td>545.000000</td>\n",
       "      <td>545.000000</td>\n",
       "      <td>545.000000</td>\n",
       "      <td>545.000000</td>\n",
       "    </tr>\n",
       "    <tr>\n",
       "      <th>mean</th>\n",
       "      <td>4.766729e+06</td>\n",
       "      <td>5150.541284</td>\n",
       "      <td>2.965138</td>\n",
       "      <td>1.286239</td>\n",
       "      <td>1.805505</td>\n",
       "      <td>0.693578</td>\n",
       "    </tr>\n",
       "    <tr>\n",
       "      <th>std</th>\n",
       "      <td>1.870440e+06</td>\n",
       "      <td>2170.141023</td>\n",
       "      <td>0.738064</td>\n",
       "      <td>0.502470</td>\n",
       "      <td>0.867492</td>\n",
       "      <td>0.861586</td>\n",
       "    </tr>\n",
       "    <tr>\n",
       "      <th>min</th>\n",
       "      <td>1.750000e+06</td>\n",
       "      <td>1650.000000</td>\n",
       "      <td>1.000000</td>\n",
       "      <td>1.000000</td>\n",
       "      <td>1.000000</td>\n",
       "      <td>0.000000</td>\n",
       "    </tr>\n",
       "    <tr>\n",
       "      <th>25%</th>\n",
       "      <td>3.430000e+06</td>\n",
       "      <td>3600.000000</td>\n",
       "      <td>2.000000</td>\n",
       "      <td>1.000000</td>\n",
       "      <td>1.000000</td>\n",
       "      <td>0.000000</td>\n",
       "    </tr>\n",
       "    <tr>\n",
       "      <th>50%</th>\n",
       "      <td>4.340000e+06</td>\n",
       "      <td>4600.000000</td>\n",
       "      <td>3.000000</td>\n",
       "      <td>1.000000</td>\n",
       "      <td>2.000000</td>\n",
       "      <td>0.000000</td>\n",
       "    </tr>\n",
       "    <tr>\n",
       "      <th>75%</th>\n",
       "      <td>5.740000e+06</td>\n",
       "      <td>6360.000000</td>\n",
       "      <td>3.000000</td>\n",
       "      <td>2.000000</td>\n",
       "      <td>2.000000</td>\n",
       "      <td>1.000000</td>\n",
       "    </tr>\n",
       "    <tr>\n",
       "      <th>max</th>\n",
       "      <td>1.330000e+07</td>\n",
       "      <td>16200.000000</td>\n",
       "      <td>6.000000</td>\n",
       "      <td>4.000000</td>\n",
       "      <td>4.000000</td>\n",
       "      <td>3.000000</td>\n",
       "    </tr>\n",
       "  </tbody>\n",
       "</table>\n",
       "</div>"
      ],
      "text/plain": [
       "              price          area    bedrooms   bathrooms     stories  \\\n",
       "count  5.450000e+02    545.000000  545.000000  545.000000  545.000000   \n",
       "mean   4.766729e+06   5150.541284    2.965138    1.286239    1.805505   \n",
       "std    1.870440e+06   2170.141023    0.738064    0.502470    0.867492   \n",
       "min    1.750000e+06   1650.000000    1.000000    1.000000    1.000000   \n",
       "25%    3.430000e+06   3600.000000    2.000000    1.000000    1.000000   \n",
       "50%    4.340000e+06   4600.000000    3.000000    1.000000    2.000000   \n",
       "75%    5.740000e+06   6360.000000    3.000000    2.000000    2.000000   \n",
       "max    1.330000e+07  16200.000000    6.000000    4.000000    4.000000   \n",
       "\n",
       "          parking  \n",
       "count  545.000000  \n",
       "mean     0.693578  \n",
       "std      0.861586  \n",
       "min      0.000000  \n",
       "25%      0.000000  \n",
       "50%      0.000000  \n",
       "75%      1.000000  \n",
       "max      3.000000  "
      ]
     },
     "execution_count": 5,
     "metadata": {},
     "output_type": "execute_result"
    }
   ],
   "source": [
    "df.describe()"
   ]
  },
  {
   "cell_type": "code",
   "execution_count": 6,
   "metadata": {},
   "outputs": [
    {
     "name": "stdout",
     "output_type": "stream",
     "text": [
      "<class 'pandas.core.frame.DataFrame'>\n",
      "RangeIndex: 545 entries, 0 to 544\n",
      "Data columns (total 13 columns):\n",
      "price               545 non-null int64\n",
      "area                545 non-null int64\n",
      "bedrooms            545 non-null int64\n",
      "bathrooms           545 non-null int64\n",
      "stories             545 non-null int64\n",
      "mainroad            545 non-null object\n",
      "guestroom           545 non-null object\n",
      "basement            545 non-null object\n",
      "hotwaterheating     545 non-null object\n",
      "airconditioning     545 non-null object\n",
      "parking             545 non-null int64\n",
      "prefarea            545 non-null object\n",
      "furnishingstatus    545 non-null object\n",
      "dtypes: int64(6), object(7)\n",
      "memory usage: 55.4+ KB\n"
     ]
    }
   ],
   "source": [
    "df.info()"
   ]
  },
  {
   "cell_type": "code",
   "execution_count": 7,
   "metadata": {},
   "outputs": [
    {
     "data": {
      "text/plain": [
       "price               0\n",
       "area                0\n",
       "bedrooms            0\n",
       "bathrooms           0\n",
       "stories             0\n",
       "mainroad            0\n",
       "guestroom           0\n",
       "basement            0\n",
       "hotwaterheating     0\n",
       "airconditioning     0\n",
       "parking             0\n",
       "prefarea            0\n",
       "furnishingstatus    0\n",
       "dtype: int64"
      ]
     },
     "execution_count": 7,
     "metadata": {},
     "output_type": "execute_result"
    }
   ],
   "source": [
    "df.isnull().sum()"
   ]
  },
  {
   "cell_type": "markdown",
   "metadata": {},
   "source": [
    "# Label Encoding"
   ]
  },
  {
   "cell_type": "code",
   "execution_count": 8,
   "metadata": {},
   "outputs": [],
   "source": [
    "list=['mainroad', 'guestroom', 'basement', 'hotwaterheating', 'airconditioning', 'prefarea']\n",
    "def binmap(x):\n",
    "    return x.map({'yes':1,'no':0})\n",
    "df[list]=df[list].apply(binmap)"
   ]
  },
  {
   "cell_type": "code",
   "execution_count": 9,
   "metadata": {},
   "outputs": [
    {
     "data": {
      "text/html": [
       "<div>\n",
       "<style scoped>\n",
       "    .dataframe tbody tr th:only-of-type {\n",
       "        vertical-align: middle;\n",
       "    }\n",
       "\n",
       "    .dataframe tbody tr th {\n",
       "        vertical-align: top;\n",
       "    }\n",
       "\n",
       "    .dataframe thead th {\n",
       "        text-align: right;\n",
       "    }\n",
       "</style>\n",
       "<table border=\"1\" class=\"dataframe\">\n",
       "  <thead>\n",
       "    <tr style=\"text-align: right;\">\n",
       "      <th></th>\n",
       "      <th>price</th>\n",
       "      <th>area</th>\n",
       "      <th>bedrooms</th>\n",
       "      <th>bathrooms</th>\n",
       "      <th>stories</th>\n",
       "      <th>mainroad</th>\n",
       "      <th>guestroom</th>\n",
       "      <th>basement</th>\n",
       "      <th>hotwaterheating</th>\n",
       "      <th>airconditioning</th>\n",
       "      <th>parking</th>\n",
       "      <th>prefarea</th>\n",
       "      <th>furnishingstatus</th>\n",
       "    </tr>\n",
       "  </thead>\n",
       "  <tbody>\n",
       "    <tr>\n",
       "      <th>0</th>\n",
       "      <td>13300000</td>\n",
       "      <td>7420</td>\n",
       "      <td>4</td>\n",
       "      <td>2</td>\n",
       "      <td>3</td>\n",
       "      <td>1</td>\n",
       "      <td>0</td>\n",
       "      <td>0</td>\n",
       "      <td>0</td>\n",
       "      <td>1</td>\n",
       "      <td>2</td>\n",
       "      <td>1</td>\n",
       "      <td>furnished</td>\n",
       "    </tr>\n",
       "    <tr>\n",
       "      <th>1</th>\n",
       "      <td>12250000</td>\n",
       "      <td>8960</td>\n",
       "      <td>4</td>\n",
       "      <td>4</td>\n",
       "      <td>4</td>\n",
       "      <td>1</td>\n",
       "      <td>0</td>\n",
       "      <td>0</td>\n",
       "      <td>0</td>\n",
       "      <td>1</td>\n",
       "      <td>3</td>\n",
       "      <td>0</td>\n",
       "      <td>furnished</td>\n",
       "    </tr>\n",
       "    <tr>\n",
       "      <th>2</th>\n",
       "      <td>12250000</td>\n",
       "      <td>9960</td>\n",
       "      <td>3</td>\n",
       "      <td>2</td>\n",
       "      <td>2</td>\n",
       "      <td>1</td>\n",
       "      <td>0</td>\n",
       "      <td>1</td>\n",
       "      <td>0</td>\n",
       "      <td>0</td>\n",
       "      <td>2</td>\n",
       "      <td>1</td>\n",
       "      <td>semi-furnished</td>\n",
       "    </tr>\n",
       "    <tr>\n",
       "      <th>3</th>\n",
       "      <td>12215000</td>\n",
       "      <td>7500</td>\n",
       "      <td>4</td>\n",
       "      <td>2</td>\n",
       "      <td>2</td>\n",
       "      <td>1</td>\n",
       "      <td>0</td>\n",
       "      <td>1</td>\n",
       "      <td>0</td>\n",
       "      <td>1</td>\n",
       "      <td>3</td>\n",
       "      <td>1</td>\n",
       "      <td>furnished</td>\n",
       "    </tr>\n",
       "    <tr>\n",
       "      <th>4</th>\n",
       "      <td>11410000</td>\n",
       "      <td>7420</td>\n",
       "      <td>4</td>\n",
       "      <td>1</td>\n",
       "      <td>2</td>\n",
       "      <td>1</td>\n",
       "      <td>1</td>\n",
       "      <td>1</td>\n",
       "      <td>0</td>\n",
       "      <td>1</td>\n",
       "      <td>2</td>\n",
       "      <td>0</td>\n",
       "      <td>furnished</td>\n",
       "    </tr>\n",
       "  </tbody>\n",
       "</table>\n",
       "</div>"
      ],
      "text/plain": [
       "      price  area  bedrooms  bathrooms  stories  mainroad  guestroom  \\\n",
       "0  13300000  7420         4          2        3         1          0   \n",
       "1  12250000  8960         4          4        4         1          0   \n",
       "2  12250000  9960         3          2        2         1          0   \n",
       "3  12215000  7500         4          2        2         1          0   \n",
       "4  11410000  7420         4          1        2         1          1   \n",
       "\n",
       "   basement  hotwaterheating  airconditioning  parking  prefarea  \\\n",
       "0         0                0                1        2         1   \n",
       "1         0                0                1        3         0   \n",
       "2         1                0                0        2         1   \n",
       "3         1                0                1        3         1   \n",
       "4         1                0                1        2         0   \n",
       "\n",
       "  furnishingstatus  \n",
       "0        furnished  \n",
       "1        furnished  \n",
       "2   semi-furnished  \n",
       "3        furnished  \n",
       "4        furnished  "
      ]
     },
     "execution_count": 9,
     "metadata": {},
     "output_type": "execute_result"
    }
   ],
   "source": [
    "df.head()"
   ]
  },
  {
   "cell_type": "markdown",
   "metadata": {},
   "source": [
    "# One Hot Encoding"
   ]
  },
  {
   "cell_type": "code",
   "execution_count": 10,
   "metadata": {},
   "outputs": [],
   "source": [
    "status=pd.get_dummies(df['furnishingstatus'])"
   ]
  },
  {
   "cell_type": "code",
   "execution_count": 11,
   "metadata": {},
   "outputs": [
    {
     "data": {
      "text/html": [
       "<div>\n",
       "<style scoped>\n",
       "    .dataframe tbody tr th:only-of-type {\n",
       "        vertical-align: middle;\n",
       "    }\n",
       "\n",
       "    .dataframe tbody tr th {\n",
       "        vertical-align: top;\n",
       "    }\n",
       "\n",
       "    .dataframe thead th {\n",
       "        text-align: right;\n",
       "    }\n",
       "</style>\n",
       "<table border=\"1\" class=\"dataframe\">\n",
       "  <thead>\n",
       "    <tr style=\"text-align: right;\">\n",
       "      <th></th>\n",
       "      <th>furnished</th>\n",
       "      <th>semi-furnished</th>\n",
       "      <th>unfurnished</th>\n",
       "    </tr>\n",
       "  </thead>\n",
       "  <tbody>\n",
       "    <tr>\n",
       "      <th>0</th>\n",
       "      <td>1</td>\n",
       "      <td>0</td>\n",
       "      <td>0</td>\n",
       "    </tr>\n",
       "    <tr>\n",
       "      <th>1</th>\n",
       "      <td>1</td>\n",
       "      <td>0</td>\n",
       "      <td>0</td>\n",
       "    </tr>\n",
       "    <tr>\n",
       "      <th>2</th>\n",
       "      <td>0</td>\n",
       "      <td>1</td>\n",
       "      <td>0</td>\n",
       "    </tr>\n",
       "    <tr>\n",
       "      <th>3</th>\n",
       "      <td>1</td>\n",
       "      <td>0</td>\n",
       "      <td>0</td>\n",
       "    </tr>\n",
       "    <tr>\n",
       "      <th>4</th>\n",
       "      <td>1</td>\n",
       "      <td>0</td>\n",
       "      <td>0</td>\n",
       "    </tr>\n",
       "  </tbody>\n",
       "</table>\n",
       "</div>"
      ],
      "text/plain": [
       "   furnished  semi-furnished  unfurnished\n",
       "0          1               0            0\n",
       "1          1               0            0\n",
       "2          0               1            0\n",
       "3          1               0            0\n",
       "4          1               0            0"
      ]
     },
     "execution_count": 11,
     "metadata": {},
     "output_type": "execute_result"
    }
   ],
   "source": [
    "status.head()"
   ]
  },
  {
   "cell_type": "code",
   "execution_count": 12,
   "metadata": {},
   "outputs": [],
   "source": [
    "df.drop(['furnishingstatus'],axis=1,inplace=True)\n",
    "df=pd.concat([df,status],axis=1)"
   ]
  },
  {
   "cell_type": "code",
   "execution_count": 13,
   "metadata": {},
   "outputs": [
    {
     "data": {
      "text/html": [
       "<div>\n",
       "<style scoped>\n",
       "    .dataframe tbody tr th:only-of-type {\n",
       "        vertical-align: middle;\n",
       "    }\n",
       "\n",
       "    .dataframe tbody tr th {\n",
       "        vertical-align: top;\n",
       "    }\n",
       "\n",
       "    .dataframe thead th {\n",
       "        text-align: right;\n",
       "    }\n",
       "</style>\n",
       "<table border=\"1\" class=\"dataframe\">\n",
       "  <thead>\n",
       "    <tr style=\"text-align: right;\">\n",
       "      <th></th>\n",
       "      <th>price</th>\n",
       "      <th>area</th>\n",
       "      <th>bedrooms</th>\n",
       "      <th>bathrooms</th>\n",
       "      <th>stories</th>\n",
       "      <th>mainroad</th>\n",
       "      <th>guestroom</th>\n",
       "      <th>basement</th>\n",
       "      <th>hotwaterheating</th>\n",
       "      <th>airconditioning</th>\n",
       "      <th>parking</th>\n",
       "      <th>prefarea</th>\n",
       "      <th>furnished</th>\n",
       "      <th>semi-furnished</th>\n",
       "      <th>unfurnished</th>\n",
       "    </tr>\n",
       "  </thead>\n",
       "  <tbody>\n",
       "    <tr>\n",
       "      <th>0</th>\n",
       "      <td>13300000</td>\n",
       "      <td>7420</td>\n",
       "      <td>4</td>\n",
       "      <td>2</td>\n",
       "      <td>3</td>\n",
       "      <td>1</td>\n",
       "      <td>0</td>\n",
       "      <td>0</td>\n",
       "      <td>0</td>\n",
       "      <td>1</td>\n",
       "      <td>2</td>\n",
       "      <td>1</td>\n",
       "      <td>1</td>\n",
       "      <td>0</td>\n",
       "      <td>0</td>\n",
       "    </tr>\n",
       "    <tr>\n",
       "      <th>1</th>\n",
       "      <td>12250000</td>\n",
       "      <td>8960</td>\n",
       "      <td>4</td>\n",
       "      <td>4</td>\n",
       "      <td>4</td>\n",
       "      <td>1</td>\n",
       "      <td>0</td>\n",
       "      <td>0</td>\n",
       "      <td>0</td>\n",
       "      <td>1</td>\n",
       "      <td>3</td>\n",
       "      <td>0</td>\n",
       "      <td>1</td>\n",
       "      <td>0</td>\n",
       "      <td>0</td>\n",
       "    </tr>\n",
       "    <tr>\n",
       "      <th>2</th>\n",
       "      <td>12250000</td>\n",
       "      <td>9960</td>\n",
       "      <td>3</td>\n",
       "      <td>2</td>\n",
       "      <td>2</td>\n",
       "      <td>1</td>\n",
       "      <td>0</td>\n",
       "      <td>1</td>\n",
       "      <td>0</td>\n",
       "      <td>0</td>\n",
       "      <td>2</td>\n",
       "      <td>1</td>\n",
       "      <td>0</td>\n",
       "      <td>1</td>\n",
       "      <td>0</td>\n",
       "    </tr>\n",
       "    <tr>\n",
       "      <th>3</th>\n",
       "      <td>12215000</td>\n",
       "      <td>7500</td>\n",
       "      <td>4</td>\n",
       "      <td>2</td>\n",
       "      <td>2</td>\n",
       "      <td>1</td>\n",
       "      <td>0</td>\n",
       "      <td>1</td>\n",
       "      <td>0</td>\n",
       "      <td>1</td>\n",
       "      <td>3</td>\n",
       "      <td>1</td>\n",
       "      <td>1</td>\n",
       "      <td>0</td>\n",
       "      <td>0</td>\n",
       "    </tr>\n",
       "    <tr>\n",
       "      <th>4</th>\n",
       "      <td>11410000</td>\n",
       "      <td>7420</td>\n",
       "      <td>4</td>\n",
       "      <td>1</td>\n",
       "      <td>2</td>\n",
       "      <td>1</td>\n",
       "      <td>1</td>\n",
       "      <td>1</td>\n",
       "      <td>0</td>\n",
       "      <td>1</td>\n",
       "      <td>2</td>\n",
       "      <td>0</td>\n",
       "      <td>1</td>\n",
       "      <td>0</td>\n",
       "      <td>0</td>\n",
       "    </tr>\n",
       "  </tbody>\n",
       "</table>\n",
       "</div>"
      ],
      "text/plain": [
       "      price  area  bedrooms  bathrooms  stories  mainroad  guestroom  \\\n",
       "0  13300000  7420         4          2        3         1          0   \n",
       "1  12250000  8960         4          4        4         1          0   \n",
       "2  12250000  9960         3          2        2         1          0   \n",
       "3  12215000  7500         4          2        2         1          0   \n",
       "4  11410000  7420         4          1        2         1          1   \n",
       "\n",
       "   basement  hotwaterheating  airconditioning  parking  prefarea  furnished  \\\n",
       "0         0                0                1        2         1          1   \n",
       "1         0                0                1        3         0          1   \n",
       "2         1                0                0        2         1          0   \n",
       "3         1                0                1        3         1          1   \n",
       "4         1                0                1        2         0          1   \n",
       "\n",
       "   semi-furnished  unfurnished  \n",
       "0               0            0  \n",
       "1               0            0  \n",
       "2               1            0  \n",
       "3               0            0  \n",
       "4               0            0  "
      ]
     },
     "execution_count": 13,
     "metadata": {},
     "output_type": "execute_result"
    }
   ],
   "source": [
    "df.head()"
   ]
  },
  {
   "cell_type": "markdown",
   "metadata": {},
   "source": [
    "# Independent & Dependent Variable"
   ]
  },
  {
   "cell_type": "code",
   "execution_count": 14,
   "metadata": {},
   "outputs": [],
   "source": [
    "y=df.pop('price').values\n",
    "x=df.values"
   ]
  },
  {
   "cell_type": "code",
   "execution_count": 15,
   "metadata": {},
   "outputs": [
    {
     "data": {
      "text/plain": [
       "array([[7420,    4,    2, ...,    1,    0,    0],\n",
       "       [8960,    4,    4, ...,    1,    0,    0],\n",
       "       [9960,    3,    2, ...,    0,    1,    0],\n",
       "       ...,\n",
       "       [3620,    2,    1, ...,    0,    0,    1],\n",
       "       [2910,    3,    1, ...,    1,    0,    0],\n",
       "       [3850,    3,    1, ...,    0,    0,    1]], dtype=int64)"
      ]
     },
     "execution_count": 15,
     "metadata": {},
     "output_type": "execute_result"
    }
   ],
   "source": [
    "x"
   ]
  },
  {
   "cell_type": "code",
   "execution_count": 16,
   "metadata": {},
   "outputs": [
    {
     "data": {
      "text/plain": [
       "array([13300000, 12250000, 12250000, 12215000, 11410000, 10850000,\n",
       "       10150000, 10150000,  9870000,  9800000,  9800000,  9681000,\n",
       "        9310000,  9240000,  9240000,  9100000,  9100000,  8960000,\n",
       "        8890000,  8855000,  8750000,  8680000,  8645000,  8645000,\n",
       "        8575000,  8540000,  8463000,  8400000,  8400000,  8400000,\n",
       "        8400000,  8400000,  8295000,  8190000,  8120000,  8080940,\n",
       "        8043000,  7980000,  7962500,  7910000,  7875000,  7840000,\n",
       "        7700000,  7700000,  7560000,  7560000,  7525000,  7490000,\n",
       "        7455000,  7420000,  7420000,  7420000,  7350000,  7350000,\n",
       "        7350000,  7350000,  7343000,  7245000,  7210000,  7210000,\n",
       "        7140000,  7070000,  7070000,  7035000,  7000000,  6930000,\n",
       "        6930000,  6895000,  6860000,  6790000,  6790000,  6755000,\n",
       "        6720000,  6685000,  6650000,  6650000,  6650000,  6650000,\n",
       "        6650000,  6650000,  6629000,  6615000,  6615000,  6580000,\n",
       "        6510000,  6510000,  6510000,  6475000,  6475000,  6440000,\n",
       "        6440000,  6419000,  6405000,  6300000,  6300000,  6300000,\n",
       "        6300000,  6300000,  6293000,  6265000,  6230000,  6230000,\n",
       "        6195000,  6195000,  6195000,  6160000,  6160000,  6125000,\n",
       "        6107500,  6090000,  6090000,  6090000,  6083000,  6083000,\n",
       "        6020000,  6020000,  6020000,  5950000,  5950000,  5950000,\n",
       "        5950000,  5950000,  5950000,  5950000,  5950000,  5943000,\n",
       "        5880000,  5880000,  5873000,  5873000,  5866000,  5810000,\n",
       "        5810000,  5810000,  5803000,  5775000,  5740000,  5740000,\n",
       "        5740000,  5740000,  5740000,  5652500,  5600000,  5600000,\n",
       "        5600000,  5600000,  5600000,  5600000,  5600000,  5600000,\n",
       "        5600000,  5565000,  5565000,  5530000,  5530000,  5530000,\n",
       "        5523000,  5495000,  5495000,  5460000,  5460000,  5460000,\n",
       "        5460000,  5425000,  5390000,  5383000,  5320000,  5285000,\n",
       "        5250000,  5250000,  5250000,  5250000,  5250000,  5250000,\n",
       "        5250000,  5250000,  5250000,  5243000,  5229000,  5215000,\n",
       "        5215000,  5215000,  5145000,  5145000,  5110000,  5110000,\n",
       "        5110000,  5110000,  5075000,  5040000,  5040000,  5040000,\n",
       "        5040000,  5033000,  5005000,  4970000,  4970000,  4956000,\n",
       "        4935000,  4907000,  4900000,  4900000,  4900000,  4900000,\n",
       "        4900000,  4900000,  4900000,  4900000,  4900000,  4900000,\n",
       "        4900000,  4900000,  4893000,  4893000,  4865000,  4830000,\n",
       "        4830000,  4830000,  4830000,  4795000,  4795000,  4767000,\n",
       "        4760000,  4760000,  4760000,  4753000,  4690000,  4690000,\n",
       "        4690000,  4690000,  4690000,  4690000,  4655000,  4620000,\n",
       "        4620000,  4620000,  4620000,  4620000,  4613000,  4585000,\n",
       "        4585000,  4550000,  4550000,  4550000,  4550000,  4550000,\n",
       "        4550000,  4550000,  4543000,  4543000,  4515000,  4515000,\n",
       "        4515000,  4515000,  4480000,  4480000,  4480000,  4480000,\n",
       "        4480000,  4473000,  4473000,  4473000,  4445000,  4410000,\n",
       "        4410000,  4403000,  4403000,  4403000,  4382000,  4375000,\n",
       "        4340000,  4340000,  4340000,  4340000,  4340000,  4319000,\n",
       "        4305000,  4305000,  4277000,  4270000,  4270000,  4270000,\n",
       "        4270000,  4270000,  4270000,  4235000,  4235000,  4200000,\n",
       "        4200000,  4200000,  4200000,  4200000,  4200000,  4200000,\n",
       "        4200000,  4200000,  4200000,  4200000,  4200000,  4200000,\n",
       "        4200000,  4200000,  4200000,  4200000,  4193000,  4193000,\n",
       "        4165000,  4165000,  4165000,  4130000,  4130000,  4123000,\n",
       "        4098500,  4095000,  4095000,  4095000,  4060000,  4060000,\n",
       "        4060000,  4060000,  4060000,  4025000,  4025000,  4025000,\n",
       "        4007500,  4007500,  3990000,  3990000,  3990000,  3990000,\n",
       "        3990000,  3920000,  3920000,  3920000,  3920000,  3920000,\n",
       "        3920000,  3920000,  3885000,  3885000,  3850000,  3850000,\n",
       "        3850000,  3850000,  3850000,  3850000,  3850000,  3836000,\n",
       "        3815000,  3780000,  3780000,  3780000,  3780000,  3780000,\n",
       "        3780000,  3773000,  3773000,  3773000,  3745000,  3710000,\n",
       "        3710000,  3710000,  3710000,  3710000,  3703000,  3703000,\n",
       "        3675000,  3675000,  3675000,  3675000,  3640000,  3640000,\n",
       "        3640000,  3640000,  3640000,  3640000,  3640000,  3640000,\n",
       "        3640000,  3633000,  3605000,  3605000,  3570000,  3570000,\n",
       "        3570000,  3570000,  3535000,  3500000,  3500000,  3500000,\n",
       "        3500000,  3500000,  3500000,  3500000,  3500000,  3500000,\n",
       "        3500000,  3500000,  3500000,  3500000,  3500000,  3500000,\n",
       "        3500000,  3500000,  3493000,  3465000,  3465000,  3465000,\n",
       "        3430000,  3430000,  3430000,  3430000,  3430000,  3430000,\n",
       "        3423000,  3395000,  3395000,  3395000,  3360000,  3360000,\n",
       "        3360000,  3360000,  3360000,  3360000,  3360000,  3360000,\n",
       "        3353000,  3332000,  3325000,  3325000,  3290000,  3290000,\n",
       "        3290000,  3290000,  3290000,  3290000,  3290000,  3290000,\n",
       "        3255000,  3255000,  3234000,  3220000,  3220000,  3220000,\n",
       "        3220000,  3150000,  3150000,  3150000,  3150000,  3150000,\n",
       "        3150000,  3150000,  3150000,  3150000,  3143000,  3129000,\n",
       "        3118850,  3115000,  3115000,  3115000,  3087000,  3080000,\n",
       "        3080000,  3080000,  3080000,  3045000,  3010000,  3010000,\n",
       "        3010000,  3010000,  3010000,  3010000,  3010000,  3003000,\n",
       "        2975000,  2961000,  2940000,  2940000,  2940000,  2940000,\n",
       "        2940000,  2940000,  2940000,  2940000,  2870000,  2870000,\n",
       "        2870000,  2870000,  2852500,  2835000,  2835000,  2835000,\n",
       "        2800000,  2800000,  2730000,  2730000,  2695000,  2660000,\n",
       "        2660000,  2660000,  2660000,  2660000,  2660000,  2660000,\n",
       "        2653000,  2653000,  2604000,  2590000,  2590000,  2590000,\n",
       "        2520000,  2520000,  2520000,  2485000,  2485000,  2450000,\n",
       "        2450000,  2450000,  2450000,  2450000,  2450000,  2408000,\n",
       "        2380000,  2380000,  2380000,  2345000,  2310000,  2275000,\n",
       "        2275000,  2275000,  2240000,  2233000,  2135000,  2100000,\n",
       "        2100000,  2100000,  1960000,  1890000,  1890000,  1855000,\n",
       "        1820000,  1767150,  1750000,  1750000,  1750000], dtype=int64)"
      ]
     },
     "execution_count": 16,
     "metadata": {},
     "output_type": "execute_result"
    }
   ],
   "source": [
    "y"
   ]
  },
  {
   "cell_type": "markdown",
   "metadata": {},
   "source": [
    "# Train, Test & Split"
   ]
  },
  {
   "cell_type": "code",
   "execution_count": 17,
   "metadata": {},
   "outputs": [],
   "source": [
    "from sklearn.model_selection import train_test_split\n",
    "x_train,x_test,y_train,y_test=train_test_split(x,y,test_size=0.2,random_state=0)"
   ]
  },
  {
   "cell_type": "code",
   "execution_count": 18,
   "metadata": {},
   "outputs": [
    {
     "data": {
      "text/plain": [
       "(436, 14)"
      ]
     },
     "execution_count": 18,
     "metadata": {},
     "output_type": "execute_result"
    }
   ],
   "source": [
    "x_train.shape"
   ]
  },
  {
   "cell_type": "code",
   "execution_count": 19,
   "metadata": {},
   "outputs": [
    {
     "data": {
      "text/plain": [
       "(109, 14)"
      ]
     },
     "execution_count": 19,
     "metadata": {},
     "output_type": "execute_result"
    }
   ],
   "source": [
    "x_test.shape"
   ]
  },
  {
   "cell_type": "markdown",
   "metadata": {},
   "source": [
    "# Multiple Linear Regression"
   ]
  },
  {
   "cell_type": "code",
   "execution_count": 20,
   "metadata": {},
   "outputs": [
    {
     "data": {
      "text/plain": [
       "LinearRegression(copy_X=True, fit_intercept=True, n_jobs=None, normalize=False)"
      ]
     },
     "execution_count": 20,
     "metadata": {},
     "output_type": "execute_result"
    }
   ],
   "source": [
    "from sklearn.linear_model import LinearRegression\n",
    "lr=LinearRegression()\n",
    "lr.fit(x_train,y_train)"
   ]
  },
  {
   "cell_type": "code",
   "execution_count": 21,
   "metadata": {},
   "outputs": [],
   "source": [
    "lr_pred=lr.predict(x_test)"
   ]
  },
  {
   "cell_type": "code",
   "execution_count": 22,
   "metadata": {},
   "outputs": [
    {
     "data": {
      "text/plain": [
       "array([ 3950288.61876184,  6173868.81883112,  4483635.98836252,\n",
       "        7258732.75105287,  2836727.58490483,  7032947.09749074,\n",
       "        3203851.47112392,  3270994.00904055,  3472554.03645915,\n",
       "        8289978.32623725,  6605321.62954623,  3723366.23684094,\n",
       "        3812376.95976085,  4548966.8454461 ,  4020476.34849668,\n",
       "        1969836.22090135,  4057262.98087852,  3704586.86711741,\n",
       "        3282767.93188792,  4609423.64909564,  5968243.7363716 ,\n",
       "        6363698.62063814,  4751300.32389   ,  2659595.27633028,\n",
       "        5305573.24662117,  5680819.58784461,  5404106.90027142,\n",
       "        5543050.52192535,  5768360.47982208,  5801753.70839283,\n",
       "        3389277.96110608,  6399092.02678424,  7081030.31411775,\n",
       "        2913042.40387669,  4498664.01335423,  5210561.68059367,\n",
       "        5013457.84122311,  3707596.71347575,  2916603.4548534 ,\n",
       "        3937761.75634066,  8041334.20180917,  4942174.61142059,\n",
       "        6432605.2198175 ,  3511338.78156424,  3813475.39540795,\n",
       "        6434856.19540026,  4447687.02885138,  2696243.71724904,\n",
       "        4180018.70625787,  6455973.25779222,  4056226.34306794,\n",
       "        7124571.30073177,  2530661.67791757,  3033278.4641963 ,\n",
       "        3500830.32062852,  5119451.01676906,  7110973.93249743,\n",
       "        4127705.79986421,  2970005.36861351,  4325732.61744628,\n",
       "        5986119.70766313,  6824682.68794777,  3325637.45729276,\n",
       "        7191804.55935362,  2609468.55099829,  5056521.66455839,\n",
       "        6636269.77589395,  2565659.89128219,  3751294.03758698,\n",
       "        5080427.99370216,  4281895.68812407,  7361447.18275849,\n",
       "        5088033.19021897,  6022539.93047586,  4176648.20409014,\n",
       "        4639478.5466221 ,  2898083.34640785,  7564393.6604021 ,\n",
       "        2583102.74086255,  3764386.73199928,  4281895.68812407,\n",
       "        6064669.41608417,  5199726.50699983,  5402615.00751871,\n",
       "        3900783.41794332,  4206866.26507425,  4785571.46071488,\n",
       "        5125782.90220215,  3843109.12191357,  4373515.96292199,\n",
       "        3233779.57826315,  5800152.85515815,  3086788.94075882,\n",
       "        3736808.50597378,  4475695.33317613, 10490600.69498256,\n",
       "        3044861.09249663,  7172608.23555221,  4348859.16641415,\n",
       "        4508307.36728278,  6607800.84903024,  3393091.94230305,\n",
       "        4545560.49433445,  3313363.08812165,  7340959.28328472,\n",
       "        5235408.60082988,  4134159.03053667,  5058911.23363253,\n",
       "        6279957.3217309 ])"
      ]
     },
     "execution_count": 22,
     "metadata": {},
     "output_type": "execute_result"
    }
   ],
   "source": [
    "lr_pred"
   ]
  },
  {
   "cell_type": "code",
   "execution_count": 23,
   "metadata": {},
   "outputs": [],
   "source": [
    "from sklearn.metrics import r2_score\n",
    "lr_acc=r2_score(lr_pred,y_test)"
   ]
  },
  {
   "cell_type": "code",
   "execution_count": 24,
   "metadata": {},
   "outputs": [
    {
     "data": {
      "text/plain": [
       "0.5937992792615878"
      ]
     },
     "execution_count": 24,
     "metadata": {},
     "output_type": "execute_result"
    }
   ],
   "source": [
    "lr_acc"
   ]
  },
  {
   "cell_type": "markdown",
   "metadata": {},
   "source": [
    "# Decision Tree Regression"
   ]
  },
  {
   "cell_type": "code",
   "execution_count": 25,
   "metadata": {},
   "outputs": [
    {
     "data": {
      "text/plain": [
       "numpy.ndarray"
      ]
     },
     "execution_count": 25,
     "metadata": {},
     "output_type": "execute_result"
    }
   ],
   "source": [
    "type(x_train)"
   ]
  },
  {
   "cell_type": "code",
   "execution_count": 26,
   "metadata": {},
   "outputs": [
    {
     "data": {
      "text/plain": [
       "DecisionTreeRegressor(criterion='mse', max_depth=None, max_features=None,\n",
       "                      max_leaf_nodes=None, min_impurity_decrease=0.0,\n",
       "                      min_impurity_split=None, min_samples_leaf=1,\n",
       "                      min_samples_split=2, min_weight_fraction_leaf=0.0,\n",
       "                      presort=False, random_state=None, splitter='best')"
      ]
     },
     "execution_count": 26,
     "metadata": {},
     "output_type": "execute_result"
    }
   ],
   "source": [
    "from sklearn.tree import DecisionTreeRegressor\n",
    "dtr=DecisionTreeRegressor()\n",
    "dtr.fit(x_train,y_train)"
   ]
  },
  {
   "cell_type": "code",
   "execution_count": 27,
   "metadata": {},
   "outputs": [],
   "source": [
    "dtr_pred=dtr.predict(x_test)"
   ]
  },
  {
   "cell_type": "code",
   "execution_count": 28,
   "metadata": {},
   "outputs": [
    {
     "data": {
      "text/plain": [
       "array([ 4907000.,  5250000.,  5145000.,  5600000.,  2940000.,  6650000.,\n",
       "        3430000.,  4193000.,  5250000.,  6930000.,  5775000.,  3500000.,\n",
       "        3640000.,  4900000.,  4900000.,  2240000.,  4900000.,  4900000.,\n",
       "        3640000.,  3640000.,  7420000.,  9681000.,  5740000.,  2100000.,\n",
       "        5600000.,  6405000.,  5229000.,  5873000.,  4767000.,  5110000.,\n",
       "        3605000.,  4900000.,  9870000.,  3423000.,  3640000.,  5950000.,\n",
       "        4200000.,  3640000.,  2660000.,  4200000.,  8575000.,  5600000.,\n",
       "        5250000.,  2940000.,  5250000.,  6650000.,  3990000.,  3423000.,\n",
       "        4515000.,  4200000.,  4403000.,  5250000.,  2100000.,  3710000.,\n",
       "        3500000.,  4200000.,  8043000.,  4403000.,  3675000.,  2940000.,\n",
       "        3500000.,  5600000.,  3885000.,  7560000.,  2940000.,  5110000.,\n",
       "        9100000.,  2590000.,  4060000.,  5950000.,  3447500.,  8645000.,\n",
       "        4550000.,  4340000.,  4445000.,  4403000.,  2940000., 10150000.,\n",
       "        3353000.,  4690000.,  3447500.,  4480000.,  3850000.,  4830000.,\n",
       "        3780000.,  4900000.,  6510000.,  4200000.,  3360000.,  4900000.,\n",
       "        4900000.,  5145000.,  3675000.,  4767000.,  3430000., 12215000.,\n",
       "        4340000.,  5880000.,  3500000.,  8400000.,  9240000.,  4193000.,\n",
       "        3885000.,  2135000.,  8855000.,  4690000.,  2870000.,  8750000.,\n",
       "        5950000.])"
      ]
     },
     "execution_count": 28,
     "metadata": {},
     "output_type": "execute_result"
    }
   ],
   "source": [
    "dtr_pred"
   ]
  },
  {
   "cell_type": "code",
   "execution_count": 29,
   "metadata": {},
   "outputs": [],
   "source": [
    "dtr_acc=r2_score(dtr_pred,y_test)"
   ]
  },
  {
   "cell_type": "code",
   "execution_count": 30,
   "metadata": {},
   "outputs": [
    {
     "data": {
      "text/plain": [
       "0.31923553830985785"
      ]
     },
     "execution_count": 30,
     "metadata": {},
     "output_type": "execute_result"
    }
   ],
   "source": [
    "dtr_acc"
   ]
  },
  {
   "cell_type": "markdown",
   "metadata": {},
   "source": [
    "# Random Forest Regression"
   ]
  },
  {
   "cell_type": "code",
   "execution_count": 31,
   "metadata": {},
   "outputs": [
    {
     "data": {
      "text/plain": [
       "RandomForestRegressor(bootstrap=True, criterion='mse', max_depth=None,\n",
       "                      max_features='auto', max_leaf_nodes=None,\n",
       "                      min_impurity_decrease=0.0, min_impurity_split=None,\n",
       "                      min_samples_leaf=1, min_samples_split=2,\n",
       "                      min_weight_fraction_leaf=0.0, n_estimators=6, n_jobs=None,\n",
       "                      oob_score=False, random_state=0, verbose=0,\n",
       "                      warm_start=False)"
      ]
     },
     "execution_count": 31,
     "metadata": {},
     "output_type": "execute_result"
    }
   ],
   "source": [
    "from sklearn.ensemble import RandomForestRegressor\n",
    "rfr=RandomForestRegressor(n_estimators=6,random_state=0)\n",
    "rfr.fit(x_train,y_train)"
   ]
  },
  {
   "cell_type": "code",
   "execution_count": 32,
   "metadata": {},
   "outputs": [],
   "source": [
    "rfr_pred=rfr.predict(x_test)"
   ]
  },
  {
   "cell_type": "code",
   "execution_count": 33,
   "metadata": {},
   "outputs": [
    {
     "data": {
      "text/plain": [
       "array([ 4387833.33333333,  5637333.33333333,  4771666.66666667,\n",
       "        6760833.33333333,  2902083.33333333,  7045500.        ,\n",
       "        3570000.        ,  3638833.33333333,  3196666.66666667,\n",
       "        8096666.66666667,  6410833.33333333,  3179166.66666667,\n",
       "        4228000.        ,  5495000.        ,  5399333.33333333,\n",
       "        2286666.66666667,  4124166.66666667,  5080833.33333333,\n",
       "        3535000.        ,  3785833.33333333,  7665000.        ,\n",
       "        6358333.33333333,  4335333.33333333,  2496666.66666667,\n",
       "        6335000.        ,  4806666.66666667,  5568500.        ,\n",
       "        5399333.33333333,  4207000.        ,  6358333.33333333,\n",
       "        3878000.        ,  4722083.33333333,  7536666.66666667,\n",
       "        3228166.66666667,  4736666.66666667,  4175500.        ,\n",
       "        6800500.        ,  3645833.33333333,  3330833.33333333,\n",
       "        4223333.33333333,  8457166.66666667,  6644166.66666667,\n",
       "        7256666.66666667,  3901333.33333333,  3929333.33333333,\n",
       "        6498333.33333333,  5332833.33333333,  3262000.        ,\n",
       "        5022500.        ,  4846333.33333333,  4236166.66666667,\n",
       "        8295000.        ,  2858333.33333333,  3395000.        ,\n",
       "        4660833.33333333,  4322500.        ,  7638166.66666667,\n",
       "        4105500.        ,  3371666.66666667,  4964166.66666667,\n",
       "        4915166.66666667,  5757500.        ,  3045000.        ,\n",
       "        7267656.66666667,  3208333.33333333,  4652666.66666667,\n",
       "        7309166.66666667,  2759166.66666667,  4582666.66666667,\n",
       "        4519666.66666667,  3896666.66666667,  7163333.33333333,\n",
       "        4251333.33333333,  6342000.        ,  4386666.66666667,\n",
       "        3987666.66666667,  2557333.33333333,  8149166.66666667,\n",
       "        3053166.66666667,  4351666.66666667,  3896666.66666667,\n",
       "        5306000.        ,  4096166.66666667,  5582500.        ,\n",
       "        4007500.        ,  4026166.66666667,  4567500.        ,\n",
       "        4888333.33333333,  3900166.66666667,  5880000.        ,\n",
       "        4385500.        ,  5699166.66666667,  3680833.33333333,\n",
       "        3721666.66666667,  3721666.66666667, 10284166.66666667,\n",
       "        3085833.33333333,  8376666.66666667,  3931666.66666667,\n",
       "        4712166.66666667,  9275000.        ,  3937500.        ,\n",
       "        4146333.33333333,  2893333.33333333,  7185500.        ,\n",
       "        4986333.33333333,  4477666.66666667,  5378333.33333333,\n",
       "        6224166.66666667])"
      ]
     },
     "execution_count": 33,
     "metadata": {},
     "output_type": "execute_result"
    }
   ],
   "source": [
    "rfr_pred"
   ]
  },
  {
   "cell_type": "code",
   "execution_count": 34,
   "metadata": {},
   "outputs": [],
   "source": [
    "rfr_acc=r2_score(rfr_pred,y_test)"
   ]
  },
  {
   "cell_type": "code",
   "execution_count": 35,
   "metadata": {},
   "outputs": [
    {
     "data": {
      "text/plain": [
       "0.5179224002783633"
      ]
     },
     "execution_count": 35,
     "metadata": {},
     "output_type": "execute_result"
    }
   ],
   "source": [
    "rfr_acc"
   ]
  },
  {
   "cell_type": "markdown",
   "metadata": {},
   "source": [
    "# Accuracies of the models"
   ]
  },
  {
   "cell_type": "code",
   "execution_count": 36,
   "metadata": {},
   "outputs": [
    {
     "name": "stdout",
     "output_type": "stream",
     "text": [
      "Linear Regression =  0.5937992792615878\n",
      "Random Forest =  0.5179224002783633\n",
      "Decision Tree =  0.31923553830985785\n"
     ]
    }
   ],
   "source": [
    "print('Linear Regression = ',lr_acc)\n",
    "print('Random Forest = ',rfr_acc)\n",
    "print('Decision Tree = ',dtr_acc)"
   ]
  }
 ],
 "metadata": {
  "kernelspec": {
   "display_name": "Python 3",
   "language": "python",
   "name": "python3"
  },
  "language_info": {
   "codemirror_mode": {
    "name": "ipython",
    "version": 3
   },
   "file_extension": ".py",
   "mimetype": "text/x-python",
   "name": "python",
   "nbconvert_exporter": "python",
   "pygments_lexer": "ipython3",
   "version": "3.7.3"
  }
 },
 "nbformat": 4,
 "nbformat_minor": 2
}
